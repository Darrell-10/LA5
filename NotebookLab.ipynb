{
 "cells": [
  {
   "cell_type": "markdown",
   "metadata": {},
   "source": [
    "# MA5 Notebook Lab Darrell Cenido"
   ]
  },
  {
   "cell_type": "markdown",
   "metadata": {},
   "source": [
    "### Task 1\n",
    "\n",
    "$log_{2}(a \\times b)$ = $\\log_{2} a + \\log_{2} b$  \n",
    "$log_{2}(a / b)$ = $\\log_{2} a - \\log_{2} b$  \n",
    "$log_{2}$($a^{n}$) = $n \\times \\log_{2} a$  \n",
    "$log_{2}$($1 / a$) = $- \\log_{2} a$\n",
    "\n",
    "**Figure A.7** More Properties of the Logarithm Function\n",
    "\n",
    "$$ \\sum_{i=1}^{i=m} \\sum_{j=1}^{j=n} a_{ij} = \\sum_{j=n}^{j=1} \\sum_{i=1}^{i=m} a_{ij} $$\n",
    "\n",
    "The source for the above equations is the [Bramer Textbook](https://www.amazon.com/Principles-Mining-Undergraduate-Computer-Science/dp/1447174925)."
   ]
  },
  {
   "cell_type": "markdown",
   "metadata": {},
   "source": [
    "### Task 2\n",
    "\n",
    "$\\overline{x} = \\frac{\\sum_{i=1}^{a} x_{i}}{a}$"
   ]
  },
  {
   "cell_type": "code",
   "execution_count": 11,
   "metadata": {},
   "outputs": [
    {
     "name": "stdout",
     "output_type": "stream",
     "text": [
      "[22, 65, 74, 22, 14, 55, 70, 30, 3, 98, 97, 86, 60, 28, 8, 54, 46, 44, 47, 86, 96, 87, 22, 89, 5, 25, 30, 30, 20, 45, 30, 26, 73, 93, 47, 89, 23, 49, 13, 84, 68, 29, 1, 68, 59, 48, 25, 64, 93, 15, 38, 33, 19, 78, 84, 27, 47, 40, 44, 72, 97, 20, 12, 4, 68, 5, 99, 51, 93, 37, 22, 12, 71, 33, 51, 96, 85, 59, 76, 11, 44, 66, 72, 20, 31, 29, 50, 96, 26, 51, 49, 57, 29, 52, 82, 43, 41, 80, 29, 56]\n",
      "[52, 45, 9, 69, 19, 53, 60, 4, 77, 33, 40, 84, 84, 3, 91, 90, 79, 17, 11, 38, 95, 72, 34, 84, 57, 80, 24, 92, 63, 96, 34, 72, 73, 64, 69, 16, 25, 48, 58, 15, 5, 96, 50, 22, 91, 79, 6, 21, 8, 25, 29, 76, 35, 28, 62, 93, 52, 34, 19, 46, 69, 7, 2, 45, 80, 2, 3, 17, 71, 68, 74, 75, 75, 29, 11, 77, 48, 16, 41, 11, 83, 36, 56, 72, 70, 65, 37, 92, 56, 26, 5, 37, 99, 92, 24, 58, 40, 19, 6, 62]\n",
      "\n",
      "List 1 Mean: 49.42\n",
      "\n",
      "List 2 Mean: 48.62\n"
     ]
    }
   ],
   "source": [
    "import random\n",
    "\n",
    "def calc_mean(list):\n",
    "    sum = 0\n",
    "    for val in list:\n",
    "        sum += val\n",
    "    return float(sum/len(list))\n",
    "\n",
    "list1 = [random.randint(1, 100) for _ in range(100)]\n",
    "print(list1)\n",
    "\n",
    "list2 = [random.randint(1, 100) for _ in range(100)]\n",
    "print(list2)\n",
    "\n",
    "print(\"\\nList 1 Mean:\", calc_mean(list1))\n",
    "\n",
    "print(\"\\nList 2 Mean:\", calc_mean(list2))"
   ]
  },
  {
   "cell_type": "markdown",
   "metadata": {},
   "source": [
    "### Task 3\n",
    "\n",
    "![67](https://media.istockphoto.com/id/1127517755/photo/to-female-hands-the-number-sixty-seven.jpg?s=612x612&w=0&k=20&c=ENQKa6pAdx5-O5ioaAWIlOK7s36JJYm8er4tJhcc05o=)\n",
    "\n",
    "This image is funny because it simply shows two numbers 6 and 7 and it is currently trending on social media. There are songs that have this number in it. I recommend referencing 6-7 in class as everybody will know this meme."
   ]
  }
 ],
 "metadata": {
  "kernelspec": {
   "display_name": "base",
   "language": "python",
   "name": "python3"
  },
  "language_info": {
   "codemirror_mode": {
    "name": "ipython",
    "version": 3
   },
   "file_extension": ".py",
   "mimetype": "text/x-python",
   "name": "python",
   "nbconvert_exporter": "python",
   "pygments_lexer": "ipython3",
   "version": "3.12.7"
  }
 },
 "nbformat": 4,
 "nbformat_minor": 2
}
